{
 "cells": [
  {
   "cell_type": "code",
   "execution_count": 1,
   "metadata": {
    "collapsed": false
   },
   "outputs": [],
   "source": [
    "#%matplotlib inline\n",
    "import os\n",
    "import numpy as np\n",
    "import pandas as pd\n",
    "# try importing netCDF4 explicitly\n",
    "import netCDF4\n",
    "import xarray as xr\n",
    "import bcolz\n",
    "#from matplotlib import pyplot as plt\n",
    "from tqdm import tqdm\n",
    "import threading\n",
    "from floater.generators import FloatSet\n",
    "from floater import hexgrid\n",
    "import re\n",
    "import dask.array as dsa\n",
    "from dask import delayed\n",
    "from dask.utils import SerializableLock\n",
    "from dask.diagnostics import ProgressBar\n",
    "from datetime import datetime, timedelta"
   ]
  },
  {
   "cell_type": "code",
   "execution_count": 2,
   "metadata": {
    "collapsed": true
   },
   "outputs": [],
   "source": [
    "fname = '/data/scratch/cz2397/traj_0000-0090.bcolz/'"
   ]
  },
  {
   "cell_type": "code",
   "execution_count": 3,
   "metadata": {
    "collapsed": true
   },
   "outputs": [],
   "source": [
    "fs = FloatSet(xlim=(0, 360), ylim=(-80, 70), dx=0.03125, dy=0.03125)\n",
    "Npart = fs.Nx*fs.Ny"
   ]
  },
  {
   "cell_type": "code",
   "execution_count": 4,
   "metadata": {
    "collapsed": false
   },
   "outputs": [],
   "source": [
    "def bcolz_to_arrays(bc, time, npart_range, fields, lock=None, dtype='f8'):\n",
    "    \"\"\"Convert bcolz data from a certain timestep to a 2d numpy array.\n",
    "    For some reason, this is fast.\n",
    "    \n",
    "    Parameters\n",
    "    ----------\n",
    "    bc : bcolz ctable\n",
    "        where the data lives\n",
    "    time : float\n",
    "        the timestep value\n",
    "    fields : list of strings\n",
    "        which fields to extract\n",
    "    fs : FloatSet\n",
    "        needed to reshape the array properly\n",
    "    dtype : numpy.dtype\n",
    "        data type to which to coerce the output data\n",
    "        \n",
    "    Returns\n",
    "    -------\n",
    "    d\n",
    "    \"\"\"\n",
    "    \n",
    "    #print(\"Called bcolz_to_dataframe(%g) on %s\" % (time, bc.rootdir))\n",
    "    npart_min, npart_max = npart_range\n",
    "    npart = np.arange(npart_min, npart_max)\n",
    "    query = \"(time==%g) & (npart>=%g) & (npart<%g)\" % (time, npart_min, npart_max)\n",
    "    \n",
    "    # convert to pandas dataframe\n",
    "    if lock is not None:\n",
    "        lock.acquire()\n",
    "    df = pd.DataFrame(bc[query])\n",
    "    if lock is not None:\n",
    "        lock.release()\n",
    "        \n",
    "        \n",
    "    # reindex the dataframe\n",
    "    df = df.set_index('npart', drop=True, verify_integrity=True)\n",
    "    df = df.reindex(npart)\n",
    "    \n",
    "    data = df[fields].values\n",
    "    return data\n",
    "\n",
    "\n",
    "def bcolz_to_dataset(fname, num_floats, fields=['x', 'y', 'vort'],\n",
    "                     delta_t=86400, date0=datetime(1993,1,1)):\n",
    "    \n",
    "    datadir = os.path.dirname(fname)\n",
    "    basename = os.path.splitext(os.path.basename(fname))[0]\n",
    "\n",
    "    # figure out time range from basename\n",
    "    day0, day1 = [int(day) for day in re.search('traj_(\\d+)-(\\d+)', basename).groups()]\n",
    "    days = np.arange(day1-day0)\n",
    "    times = delta_t * days\n",
    "    refdate = date0 + timedelta(days=day0)\n",
    "    \n",
    "    \n",
    "    bc = bcolz.open(rootdir=fname, mode='r')\n",
    "\n",
    "    nt = len(times)\n",
    "    npart = np.arange(1,num_floats+1)\n",
    "    # get the full particle range at each timestep\n",
    "    npart_range = npart[0], npart[-1]+1\n",
    "    lock = SerializableLock()\n",
    "    dtype = 'f8'\n",
    "    data = [dsa.from_delayed(\n",
    "                delayed(bcolz_to_arrays)(\n",
    "                    bc, time, npart_range, fields, lock=lock, dtype=dtype),\n",
    "                (num_floats, len(fields)), dtype)\n",
    "            for time in times]\n",
    "    stacked_data = dsa.stack(data)\n",
    "    \n",
    "    # create xarray dataset\n",
    "    data_variables = {field: (('time', 'npart'), stacked_data[...,n])\n",
    "                      for n, field in enumerate(fields)}\n",
    "    ds = xr.Dataset(data_variables, {'npart': npart, 'time': days})\n",
    "    ds.time.attrs['units'] = 'days since %s' % date0.strftime('%Y-%m-%d')\n",
    "    \n",
    "    outfile = os.path.join(datadir, basename + '.nc')\n",
    "    with ProgressBar():\n",
    "        ds.to_netcdf(outfile, engine='netcdf4')"
   ]
  },
  {
   "cell_type": "code",
   "execution_count": 5,
   "metadata": {
    "collapsed": false,
    "scrolled": false
   },
   "outputs": [
    {
     "ename": "AttributeError",
     "evalue": "'NoneType' object has no attribute 'groups'",
     "output_type": "error",
     "traceback": [
      "\u001b[1;31m---------------------------------------------------------------------------\u001b[0m",
      "\u001b[1;31mAttributeError\u001b[0m                            Traceback (most recent call last)",
      "\u001b[1;32m<ipython-input-5-7039d5fc6b0d>\u001b[0m in \u001b[0;36m<module>\u001b[1;34m()\u001b[0m\n\u001b[1;32m----> 1\u001b[1;33m \u001b[0mbcolz_to_dataset\u001b[0m\u001b[1;33m(\u001b[0m\u001b[0mfname\u001b[0m\u001b[1;33m,\u001b[0m \u001b[0mNpart\u001b[0m\u001b[1;33m)\u001b[0m\u001b[1;33m\u001b[0m\u001b[0m\n\u001b[0m",
      "\u001b[1;32m<ipython-input-4-a44c95ebefa6>\u001b[0m in \u001b[0;36mbcolz_to_dataset\u001b[1;34m(fname, num_floats, fields, delta_t, date0)\u001b[0m\n\u001b[0;32m     49\u001b[0m \u001b[1;33m\u001b[0m\u001b[0m\n\u001b[0;32m     50\u001b[0m     \u001b[1;31m# figure out time range from basename\u001b[0m\u001b[1;33m\u001b[0m\u001b[1;33m\u001b[0m\u001b[0m\n\u001b[1;32m---> 51\u001b[1;33m     \u001b[0mday0\u001b[0m\u001b[1;33m,\u001b[0m \u001b[0mday1\u001b[0m \u001b[1;33m=\u001b[0m \u001b[1;33m[\u001b[0m\u001b[0mint\u001b[0m\u001b[1;33m(\u001b[0m\u001b[0mday\u001b[0m\u001b[1;33m)\u001b[0m \u001b[1;32mfor\u001b[0m \u001b[0mday\u001b[0m \u001b[1;32min\u001b[0m \u001b[0mre\u001b[0m\u001b[1;33m.\u001b[0m\u001b[0msearch\u001b[0m\u001b[1;33m(\u001b[0m\u001b[1;34m'traj_(\\d+)-(\\d+)'\u001b[0m\u001b[1;33m,\u001b[0m \u001b[0mbasename\u001b[0m\u001b[1;33m)\u001b[0m\u001b[1;33m.\u001b[0m\u001b[0mgroups\u001b[0m\u001b[1;33m(\u001b[0m\u001b[1;33m)\u001b[0m\u001b[1;33m]\u001b[0m\u001b[1;33m\u001b[0m\u001b[0m\n\u001b[0m\u001b[0;32m     52\u001b[0m     \u001b[0mdays\u001b[0m \u001b[1;33m=\u001b[0m \u001b[0mnp\u001b[0m\u001b[1;33m.\u001b[0m\u001b[0marange\u001b[0m\u001b[1;33m(\u001b[0m\u001b[0mday1\u001b[0m\u001b[1;33m-\u001b[0m\u001b[0mday0\u001b[0m\u001b[1;33m)\u001b[0m\u001b[1;33m\u001b[0m\u001b[0m\n\u001b[0;32m     53\u001b[0m     \u001b[0mtimes\u001b[0m \u001b[1;33m=\u001b[0m \u001b[0mdelta_t\u001b[0m \u001b[1;33m*\u001b[0m \u001b[0mdays\u001b[0m\u001b[1;33m\u001b[0m\u001b[0m\n",
      "\u001b[1;31mAttributeError\u001b[0m: 'NoneType' object has no attribute 'groups'"
     ]
    }
   ],
   "source": [
    "bcolz_to_dataset(fname, Npart)"
   ]
  },
  {
   "cell_type": "code",
   "execution_count": null,
   "metadata": {
    "collapsed": true
   },
   "outputs": [],
   "source": []
  }
 ],
 "metadata": {
  "kernelspec": {
   "display_name": "Python 2.7",
   "language": "python",
   "name": "python2"
  },
  "language_info": {
   "codemirror_mode": {
    "name": "ipython",
    "version": 2
   },
   "file_extension": ".py",
   "mimetype": "text/x-python",
   "name": "python",
   "nbconvert_exporter": "python",
   "pygments_lexer": "ipython2",
   "version": "2.7.11"
  }
 },
 "nbformat": 4,
 "nbformat_minor": 0
}
