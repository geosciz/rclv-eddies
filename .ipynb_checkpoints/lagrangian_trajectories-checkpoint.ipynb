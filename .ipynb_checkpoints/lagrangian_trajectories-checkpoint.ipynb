{
 "cells": [
  {
   "cell_type": "code",
   "execution_count": 36,
   "metadata": {
    "collapsed": true
   },
   "outputs": [],
   "source": [
    "from dask import delayed\n",
    "from dask.utils import SerializableLock\n",
    "from datetime import datetime, timedelta\n",
    "from floater.generators import FloatSet\n",
    "import bcolz\n",
    "import numpy as np\n",
    "import os, re\n",
    "import pandas as pd"
   ]
  },
  {
   "cell_type": "code",
   "execution_count": 2,
   "metadata": {
    "collapsed": true
   },
   "outputs": [],
   "source": [
    "fname = '/data/scratch/rpa/global_lagrangian/output/int_090/traj_0090-0180.bcolz'"
   ]
  },
  {
   "cell_type": "code",
   "execution_count": 3,
   "metadata": {
    "collapsed": true
   },
   "outputs": [],
   "source": [
    "fs = FloatSet(xlim=(180, 230), ylim=(-80, 80), dx=0.03125, dy=0.03125)"
   ]
  },
  {
   "cell_type": "code",
   "execution_count": 4,
   "metadata": {
    "collapsed": false
   },
   "outputs": [
    {
     "data": {
      "text/plain": [
       "8192000"
      ]
     },
     "execution_count": 4,
     "metadata": {},
     "output_type": "execute_result"
    }
   ],
   "source": [
    "Npart = fs.Nx*fs.Ny\n",
    "Npart"
   ]
  },
  {
   "cell_type": "code",
   "execution_count": 5,
   "metadata": {
    "collapsed": false
   },
   "outputs": [
    {
     "data": {
      "text/plain": [
       "'/data/scratch/rpa/global_lagrangian/output/int_090'"
      ]
     },
     "execution_count": 5,
     "metadata": {},
     "output_type": "execute_result"
    }
   ],
   "source": [
    "datadir = os.path.dirname(fname)\n",
    "datadir"
   ]
  },
  {
   "cell_type": "code",
   "execution_count": 6,
   "metadata": {
    "collapsed": false
   },
   "outputs": [
    {
     "data": {
      "text/plain": [
       "'traj_0090-0180'"
      ]
     },
     "execution_count": 6,
     "metadata": {},
     "output_type": "execute_result"
    }
   ],
   "source": [
    "basename = os.path.splitext(os.path.basename(fname))[0]\n",
    "basename"
   ]
  },
  {
   "cell_type": "code",
   "execution_count": 7,
   "metadata": {
    "collapsed": false
   },
   "outputs": [
    {
     "data": {
      "text/plain": [
       "(90, 180)"
      ]
     },
     "execution_count": 7,
     "metadata": {},
     "output_type": "execute_result"
    }
   ],
   "source": [
    "day0, day1 = [int(day) for day in re.search('traj_(\\d+)-(\\d+)', basename).groups()]\n",
    "day0, day1"
   ]
  },
  {
   "cell_type": "code",
   "execution_count": 8,
   "metadata": {
    "collapsed": false
   },
   "outputs": [
    {
     "data": {
      "text/plain": [
       "array([ 0,  1,  2,  3,  4,  5,  6,  7,  8,  9, 10, 11, 12, 13, 14, 15, 16,\n",
       "       17, 18, 19, 20, 21, 22, 23, 24, 25, 26, 27, 28, 29, 30, 31, 32, 33,\n",
       "       34, 35, 36, 37, 38, 39, 40, 41, 42, 43, 44, 45, 46, 47, 48, 49, 50,\n",
       "       51, 52, 53, 54, 55, 56, 57, 58, 59, 60, 61, 62, 63, 64, 65, 66, 67,\n",
       "       68, 69, 70, 71, 72, 73, 74, 75, 76, 77, 78, 79, 80, 81, 82, 83, 84,\n",
       "       85, 86, 87, 88, 89])"
      ]
     },
     "execution_count": 8,
     "metadata": {},
     "output_type": "execute_result"
    }
   ],
   "source": [
    "days = np.arange(day1-day0)\n",
    "days"
   ]
  },
  {
   "cell_type": "code",
   "execution_count": 9,
   "metadata": {
    "collapsed": false
   },
   "outputs": [
    {
     "data": {
      "text/plain": [
       "86400"
      ]
     },
     "execution_count": 9,
     "metadata": {},
     "output_type": "execute_result"
    }
   ],
   "source": [
    "delta_t=86400\n",
    "delta_t"
   ]
  },
  {
   "cell_type": "code",
   "execution_count": 10,
   "metadata": {
    "collapsed": false
   },
   "outputs": [
    {
     "data": {
      "text/plain": [
       "array([      0,   86400,  172800,  259200,  345600,  432000,  518400,\n",
       "        604800,  691200,  777600,  864000,  950400, 1036800, 1123200,\n",
       "       1209600, 1296000, 1382400, 1468800, 1555200, 1641600, 1728000,\n",
       "       1814400, 1900800, 1987200, 2073600, 2160000, 2246400, 2332800,\n",
       "       2419200, 2505600, 2592000, 2678400, 2764800, 2851200, 2937600,\n",
       "       3024000, 3110400, 3196800, 3283200, 3369600, 3456000, 3542400,\n",
       "       3628800, 3715200, 3801600, 3888000, 3974400, 4060800, 4147200,\n",
       "       4233600, 4320000, 4406400, 4492800, 4579200, 4665600, 4752000,\n",
       "       4838400, 4924800, 5011200, 5097600, 5184000, 5270400, 5356800,\n",
       "       5443200, 5529600, 5616000, 5702400, 5788800, 5875200, 5961600,\n",
       "       6048000, 6134400, 6220800, 6307200, 6393600, 6480000, 6566400,\n",
       "       6652800, 6739200, 6825600, 6912000, 6998400, 7084800, 7171200,\n",
       "       7257600, 7344000, 7430400, 7516800, 7603200, 7689600])"
      ]
     },
     "execution_count": 10,
     "metadata": {},
     "output_type": "execute_result"
    }
   ],
   "source": [
    "times = days*delta_t\n",
    "times"
   ]
  },
  {
   "cell_type": "code",
   "execution_count": 11,
   "metadata": {
    "collapsed": false
   },
   "outputs": [
    {
     "data": {
      "text/plain": [
       "datetime.datetime(1993, 1, 1, 0, 0)"
      ]
     },
     "execution_count": 11,
     "metadata": {},
     "output_type": "execute_result"
    }
   ],
   "source": [
    "date0=datetime(1993,1,1)\n",
    "date0"
   ]
  },
  {
   "cell_type": "code",
   "execution_count": 12,
   "metadata": {
    "collapsed": false
   },
   "outputs": [
    {
     "data": {
      "text/plain": [
       "datetime.datetime(1993, 4, 1, 0, 0)"
      ]
     },
     "execution_count": 12,
     "metadata": {},
     "output_type": "execute_result"
    }
   ],
   "source": [
    "refdate = date0 + timedelta(days=day0)\n",
    "refdate"
   ]
  },
  {
   "cell_type": "code",
   "execution_count": 13,
   "metadata": {
    "collapsed": false
   },
   "outputs": [
    {
     "data": {
      "text/plain": [
       "ctable((753664023,), [('npart', '<f4'), ('time', '<f4'), ('x', '<f4'), ('y', '<f4'), ('vort', '<f4')])\n",
       "  nbytes: 14.04 GB; cbytes: 6.11 GB; ratio: 2.30\n",
       "  cparams := cparams(clevel=5, shuffle=True, cname='blosclz')\n",
       "  rootdir := '/data/scratch/rpa/global_lagrangian/output/int_090/traj_0090-0180.bcolz'\n",
       "[ (1297586.0, 4492800.0, 247.6322479248047, -56.92790603637695, 2.779736178126768e-06)\n",
       " (1297587.0, 4492800.0, 247.60421752929688, -57.070072174072266, 4.394159077492077e-06)\n",
       " (1297567.0, 4492800.0, 247.61593627929688, -56.94962692260742, 3.0349401640705764e-06)\n",
       " ...,\n",
       " (5060411.0, 7862400.0, 216.6854705810547, 19.999229431152344, -3.2957746043393854e-06)\n",
       " (4105022.0, 7862400.0, 215.76144409179688, 0.00031462014885619283, 1.5322804074457963e-06)\n",
       " (3828462.0, 7862400.0, 215.23580932617188, 0.000548539450392127, 3.845694209303474e-06)]"
      ]
     },
     "execution_count": 13,
     "metadata": {},
     "output_type": "execute_result"
    }
   ],
   "source": [
    "bc = bcolz.open(rootdir=fname, mode='r')\n",
    "bc"
   ]
  },
  {
   "cell_type": "code",
   "execution_count": 14,
   "metadata": {
    "collapsed": false
   },
   "outputs": [
    {
     "data": {
      "text/plain": [
       "90"
      ]
     },
     "execution_count": 14,
     "metadata": {},
     "output_type": "execute_result"
    }
   ],
   "source": [
    "nt = len(times)\n",
    "nt"
   ]
  },
  {
   "cell_type": "code",
   "execution_count": 15,
   "metadata": {
    "collapsed": false
   },
   "outputs": [
    {
     "data": {
      "text/plain": [
       "8192000"
      ]
     },
     "execution_count": 15,
     "metadata": {},
     "output_type": "execute_result"
    }
   ],
   "source": [
    "num_floats = Npart\n",
    "num_floats"
   ]
  },
  {
   "cell_type": "code",
   "execution_count": 16,
   "metadata": {
    "collapsed": false
   },
   "outputs": [
    {
     "data": {
      "text/plain": [
       "array([      1,       2,       3, ..., 8191998, 8191999, 8192000])"
      ]
     },
     "execution_count": 16,
     "metadata": {},
     "output_type": "execute_result"
    }
   ],
   "source": [
    "npart = np.arange(1, num_floats+1)\n",
    "npart"
   ]
  },
  {
   "cell_type": "code",
   "execution_count": 17,
   "metadata": {
    "collapsed": false
   },
   "outputs": [
    {
     "data": {
      "text/plain": [
       "(1, 8192001)"
      ]
     },
     "execution_count": 17,
     "metadata": {},
     "output_type": "execute_result"
    }
   ],
   "source": [
    "npart_range = npart[0], npart[-1]+1\n",
    "npart_range"
   ]
  },
  {
   "cell_type": "code",
   "execution_count": 18,
   "metadata": {
    "collapsed": false
   },
   "outputs": [
    {
     "data": {
      "text/plain": [
       "<SerializableLock: 6c2b1432-a8bd-4da7-a03f-047c4803b8a2>"
      ]
     },
     "execution_count": 18,
     "metadata": {},
     "output_type": "execute_result"
    }
   ],
   "source": [
    "lock = SerializableLock()\n",
    "lock"
   ]
  },
  {
   "cell_type": "code",
   "execution_count": 19,
   "metadata": {
    "collapsed": false
   },
   "outputs": [
    {
     "data": {
      "text/plain": [
       "'f4'"
      ]
     },
     "execution_count": 19,
     "metadata": {},
     "output_type": "execute_result"
    }
   ],
   "source": [
    "dtype = 'f4'\n",
    "dtype"
   ]
  },
  {
   "cell_type": "code",
   "execution_count": 20,
   "metadata": {
    "collapsed": false
   },
   "outputs": [
    {
     "data": {
      "text/plain": [
       "(1, 8192001)"
      ]
     },
     "execution_count": 20,
     "metadata": {},
     "output_type": "execute_result"
    }
   ],
   "source": [
    "npart_min, npart_max = npart_range\n",
    "npart_min, npart_max"
   ]
  },
  {
   "cell_type": "code",
   "execution_count": 21,
   "metadata": {
    "collapsed": false
   },
   "outputs": [
    {
     "data": {
      "text/plain": [
       "0"
      ]
     },
     "execution_count": 21,
     "metadata": {},
     "output_type": "execute_result"
    }
   ],
   "source": [
    "time = times[0]\n",
    "time"
   ]
  },
  {
   "cell_type": "code",
   "execution_count": 22,
   "metadata": {
    "collapsed": false
   },
   "outputs": [
    {
     "data": {
      "text/plain": [
       "'(time==0) & (npart>=1) & (npart<=8.192e+06)'"
      ]
     },
     "execution_count": 22,
     "metadata": {},
     "output_type": "execute_result"
    }
   ],
   "source": [
    "query = '(time==%g) & (npart>=%g) & (npart<=%g)' % (time, npart_min, npart_max)\n",
    "query"
   ]
  },
  {
   "cell_type": "code",
   "execution_count": 23,
   "metadata": {
    "collapsed": true
   },
   "outputs": [],
   "source": [
    "if lock is not None:\n",
    "    lock.acquire()"
   ]
  },
  {
   "cell_type": "code",
   "execution_count": 24,
   "metadata": {
    "collapsed": false
   },
   "outputs": [
    {
     "data": {
      "text/html": [
       "<div>\n",
       "<table border=\"1\" class=\"dataframe\">\n",
       "  <thead>\n",
       "    <tr style=\"text-align: right;\">\n",
       "      <th></th>\n",
       "      <th>npart</th>\n",
       "      <th>time</th>\n",
       "      <th>x</th>\n",
       "      <th>y</th>\n",
       "      <th>vort</th>\n",
       "    </tr>\n",
       "  </thead>\n",
       "  <tbody>\n",
       "    <tr>\n",
       "      <th>0</th>\n",
       "      <td>1025441</td>\n",
       "      <td>0</td>\n",
       "      <td>225.023438</td>\n",
       "      <td>-59.984375</td>\n",
       "      <td>1.224266e-06</td>\n",
       "    </tr>\n",
       "    <tr>\n",
       "      <th>1</th>\n",
       "      <td>1025442</td>\n",
       "      <td>0</td>\n",
       "      <td>225.054688</td>\n",
       "      <td>-59.984375</td>\n",
       "      <td>1.114438e-06</td>\n",
       "    </tr>\n",
       "    <tr>\n",
       "      <th>2</th>\n",
       "      <td>1025443</td>\n",
       "      <td>0</td>\n",
       "      <td>225.085938</td>\n",
       "      <td>-59.984375</td>\n",
       "      <td>8.762393e-07</td>\n",
       "    </tr>\n",
       "    <tr>\n",
       "      <th>3</th>\n",
       "      <td>1025444</td>\n",
       "      <td>0</td>\n",
       "      <td>225.117188</td>\n",
       "      <td>-59.984375</td>\n",
       "      <td>6.380402e-07</td>\n",
       "    </tr>\n",
       "    <tr>\n",
       "      <th>4</th>\n",
       "      <td>1025445</td>\n",
       "      <td>0</td>\n",
       "      <td>225.148438</td>\n",
       "      <td>-59.984375</td>\n",
       "      <td>3.998412e-07</td>\n",
       "    </tr>\n",
       "  </tbody>\n",
       "</table>\n",
       "</div>"
      ],
      "text/plain": [
       "     npart  time           x          y          vort\n",
       "0  1025441     0  225.023438 -59.984375  1.224266e-06\n",
       "1  1025442     0  225.054688 -59.984375  1.114438e-06\n",
       "2  1025443     0  225.085938 -59.984375  8.762393e-07\n",
       "3  1025444     0  225.117188 -59.984375  6.380402e-07\n",
       "4  1025445     0  225.148438 -59.984375  3.998412e-07"
      ]
     },
     "execution_count": 24,
     "metadata": {},
     "output_type": "execute_result"
    }
   ],
   "source": [
    "df = pd.DataFrame(bc[query])\n",
    "df.head()"
   ]
  },
  {
   "cell_type": "code",
   "execution_count": 30,
   "metadata": {
    "collapsed": false
   },
   "outputs": [
    {
     "data": {
      "text/html": [
       "<div>\n",
       "<table border=\"1\" class=\"dataframe\">\n",
       "  <thead>\n",
       "    <tr style=\"text-align: right;\">\n",
       "      <th></th>\n",
       "      <th>time</th>\n",
       "      <th>x</th>\n",
       "      <th>y</th>\n",
       "      <th>vort</th>\n",
       "    </tr>\n",
       "    <tr>\n",
       "      <th>npart</th>\n",
       "      <th></th>\n",
       "      <th></th>\n",
       "      <th></th>\n",
       "      <th></th>\n",
       "    </tr>\n",
       "  </thead>\n",
       "  <tbody>\n",
       "    <tr>\n",
       "      <th>1025441</th>\n",
       "      <td>0</td>\n",
       "      <td>225.023438</td>\n",
       "      <td>-59.984375</td>\n",
       "      <td>1.224266e-06</td>\n",
       "    </tr>\n",
       "    <tr>\n",
       "      <th>1025442</th>\n",
       "      <td>0</td>\n",
       "      <td>225.054688</td>\n",
       "      <td>-59.984375</td>\n",
       "      <td>1.114438e-06</td>\n",
       "    </tr>\n",
       "    <tr>\n",
       "      <th>1025443</th>\n",
       "      <td>0</td>\n",
       "      <td>225.085938</td>\n",
       "      <td>-59.984375</td>\n",
       "      <td>8.762393e-07</td>\n",
       "    </tr>\n",
       "    <tr>\n",
       "      <th>1025444</th>\n",
       "      <td>0</td>\n",
       "      <td>225.117188</td>\n",
       "      <td>-59.984375</td>\n",
       "      <td>6.380402e-07</td>\n",
       "    </tr>\n",
       "    <tr>\n",
       "      <th>1025445</th>\n",
       "      <td>0</td>\n",
       "      <td>225.148438</td>\n",
       "      <td>-59.984375</td>\n",
       "      <td>3.998412e-07</td>\n",
       "    </tr>\n",
       "  </tbody>\n",
       "</table>\n",
       "</div>"
      ],
      "text/plain": [
       "         time           x          y          vort\n",
       "npart                                             \n",
       "1025441     0  225.023438 -59.984375  1.224266e-06\n",
       "1025442     0  225.054688 -59.984375  1.114438e-06\n",
       "1025443     0  225.085938 -59.984375  8.762393e-07\n",
       "1025444     0  225.117188 -59.984375  6.380402e-07\n",
       "1025445     0  225.148438 -59.984375  3.998412e-07"
      ]
     },
     "execution_count": 30,
     "metadata": {},
     "output_type": "execute_result"
    }
   ],
   "source": [
    "df = df.set_index('npart', drop=True, verify_integrity=True)\n",
    "df.head()"
   ]
  },
  {
   "cell_type": "code",
   "execution_count": 31,
   "metadata": {
    "collapsed": false
   },
   "outputs": [
    {
     "data": {
      "text/html": [
       "<div>\n",
       "<table border=\"1\" class=\"dataframe\">\n",
       "  <thead>\n",
       "    <tr style=\"text-align: right;\">\n",
       "      <th></th>\n",
       "      <th>time</th>\n",
       "      <th>x</th>\n",
       "      <th>y</th>\n",
       "      <th>vort</th>\n",
       "    </tr>\n",
       "    <tr>\n",
       "      <th>npart</th>\n",
       "      <th></th>\n",
       "      <th></th>\n",
       "      <th></th>\n",
       "      <th></th>\n",
       "    </tr>\n",
       "  </thead>\n",
       "  <tbody>\n",
       "    <tr>\n",
       "      <th>1</th>\n",
       "      <td>0</td>\n",
       "      <td>180.023438</td>\n",
       "      <td>-79.984375</td>\n",
       "      <td>-5.316531e-10</td>\n",
       "    </tr>\n",
       "    <tr>\n",
       "      <th>2</th>\n",
       "      <td>0</td>\n",
       "      <td>180.054688</td>\n",
       "      <td>-79.984375</td>\n",
       "      <td>-5.323152e-10</td>\n",
       "    </tr>\n",
       "    <tr>\n",
       "      <th>3</th>\n",
       "      <td>0</td>\n",
       "      <td>180.085938</td>\n",
       "      <td>-79.984375</td>\n",
       "      <td>-5.330137e-10</td>\n",
       "    </tr>\n",
       "    <tr>\n",
       "      <th>4</th>\n",
       "      <td>0</td>\n",
       "      <td>180.117188</td>\n",
       "      <td>-79.984375</td>\n",
       "      <td>-5.337122e-10</td>\n",
       "    </tr>\n",
       "    <tr>\n",
       "      <th>5</th>\n",
       "      <td>0</td>\n",
       "      <td>180.148438</td>\n",
       "      <td>-79.984375</td>\n",
       "      <td>-5.344107e-10</td>\n",
       "    </tr>\n",
       "  </tbody>\n",
       "</table>\n",
       "</div>"
      ],
      "text/plain": [
       "       time           x          y          vort\n",
       "npart                                           \n",
       "1         0  180.023438 -79.984375 -5.316531e-10\n",
       "2         0  180.054688 -79.984375 -5.323152e-10\n",
       "3         0  180.085938 -79.984375 -5.330137e-10\n",
       "4         0  180.117188 -79.984375 -5.337122e-10\n",
       "5         0  180.148438 -79.984375 -5.344107e-10"
      ]
     },
     "execution_count": 31,
     "metadata": {},
     "output_type": "execute_result"
    }
   ],
   "source": [
    "df = df.reindex(npart)\n",
    "df.head()"
   ]
  },
  {
   "cell_type": "code",
   "execution_count": 34,
   "metadata": {
    "collapsed": false
   },
   "outputs": [
    {
     "data": {
      "text/plain": [
       "['x', 'y', 'vort']"
      ]
     },
     "execution_count": 34,
     "metadata": {},
     "output_type": "execute_result"
    }
   ],
   "source": [
    "fields=['x', 'y', 'vort']\n",
    "fields"
   ]
  },
  {
   "cell_type": "code",
   "execution_count": 35,
   "metadata": {
    "collapsed": false
   },
   "outputs": [
    {
     "data": {
      "text/plain": [
       "array([[  1.80023438e+02,  -7.99843750e+01,  -5.31653110e-10],\n",
       "       [  1.80054688e+02,  -7.99843750e+01,  -5.32315192e-10],\n",
       "       [  1.80085938e+02,  -7.99843750e+01,  -5.33013689e-10],\n",
       "       ..., \n",
       "       [  2.29914062e+02,   7.99843750e+01,   6.34674995e-12],\n",
       "       [  2.29945312e+02,   7.99843750e+01,   6.36987295e-12],\n",
       "       [  2.29976562e+02,   7.99843750e+01,   6.88776553e-12]], dtype=float32)"
      ]
     },
     "execution_count": 35,
     "metadata": {},
     "output_type": "execute_result"
    }
   ],
   "source": [
    "data = df[fields].values\n",
    "data"
   ]
  },
  {
   "cell_type": "code",
   "execution_count": null,
   "metadata": {
    "collapsed": true
   },
   "outputs": [],
   "source": [
    "delayed(bcolz_to_arrays)(bc, time, npart_range, fields, lock=lock, dtype=dtype), (num_floats, len(fields))"
   ]
  }
 ],
 "metadata": {
  "kernelspec": {
   "display_name": "Python 2.7",
   "language": "python",
   "name": "python2"
  },
  "language_info": {
   "codemirror_mode": {
    "name": "ipython",
    "version": 2
   },
   "file_extension": ".py",
   "mimetype": "text/x-python",
   "name": "python",
   "nbconvert_exporter": "python",
   "pygments_lexer": "ipython2",
   "version": "2.7.11"
  }
 },
 "nbformat": 4,
 "nbformat_minor": 0
}
