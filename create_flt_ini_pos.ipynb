{
 "cells": [
  {
   "cell_type": "code",
   "execution_count": 1,
   "metadata": {
    "collapsed": false,
    "deletable": true,
    "editable": true
   },
   "outputs": [],
   "source": [
    "import matplotlib.pyplot as plt\n",
    "import numpy as np\n",
    "import seaborn as sns\n",
    "from floater.generators import FloatSet\n",
    "from xmitgcm import open_mdsdataset"
   ]
  },
  {
   "cell_type": "code",
   "execution_count": 2,
   "metadata": {
    "collapsed": false,
    "deletable": true,
    "editable": true
   },
   "outputs": [],
   "source": [
    "%matplotlib inline"
   ]
  },
  {
   "cell_type": "code",
   "execution_count": 3,
   "metadata": {
    "collapsed": false,
    "deletable": true,
    "editable": true,
    "scrolled": false
   },
   "outputs": [
    {
     "name": "stderr",
     "output_type": "stream",
     "text": [
      "/home/cz2397/xmitgcm/xmitgcm/utils.py:314: UserWarning: Not sure what to do with rlev = L\n",
      "  warnings.warn(\"Not sure what to do with rlev = \" + rlev)\n"
     ]
    },
    {
     "data": {
      "text/plain": [
       "<xarray.Dataset>\n",
       "Dimensions:  (XC: 3600, XG: 3600, YC: 1600, YG: 1600, Z: 1, Zl: 1, Zp1: 2, Zu: 1)\n",
       "Coordinates:\n",
       "  * XC       (XC) >f4 0.05 0.15 0.25 0.35 0.45 0.55 0.65 0.75 0.85 0.95 1.05 ...\n",
       "  * YC       (YC) >f4 -79.95 -79.85 -79.75 -79.65 -79.55 -79.45 -79.35 ...\n",
       "  * XG       (XG) >f4 -2.77556e-17 0.1 0.2 0.3 0.4 0.5 0.6 0.7 0.8 0.9 1.0 ...\n",
       "  * YG       (YG) >f4 -80.0 -79.9 -79.8 -79.7 -79.6 -79.5 -79.4 -79.3 -79.2 ...\n",
       "  * Z        (Z) >f4 -50.0\n",
       "  * Zp1      (Zp1) >f4 0.0 -100.0\n",
       "  * Zu       (Zu) >f4 -100.0\n",
       "  * Zl       (Zl) >f4 0.0\n",
       "    rA       (YC, XC) >f4 2.15699e+07 2.15699e+07 2.15699e+07 2.15699e+07 ...\n",
       "    dxG      (YG, XC) >f4 1930.58 1930.58 1930.58 1930.58 1930.58 1930.58 ...\n",
       "    dyG      (YC, XG) >f4 11117.7 11117.7 11117.7 11117.7 11117.7 11117.7 ...\n",
       "    Depth    (YC, XC) >f4 0.0 0.0 0.0 0.0 0.0 0.0 0.0 0.0 0.0 0.0 0.0 0.0 ...\n",
       "    rAz      (YG, XG) >f4 2.14637e+07 2.14637e+07 2.14637e+07 2.14637e+07 ...\n",
       "    dxC      (YC, XG) >f4 1940.13 1940.13 1940.13 1940.13 1940.13 1940.13 ...\n",
       "    dyC      (YG, XC) >f4 11117.7 11117.7 11117.7 11117.7 11117.7 11117.7 ...\n",
       "    rAw      (YC, XG) >f4 2.15699e+07 2.15699e+07 2.15699e+07 2.15699e+07 ...\n",
       "    rAs      (YG, XC) >f4 2.14637e+07 2.14637e+07 2.14637e+07 2.14637e+07 ...\n",
       "    drC      (Zp1) >f4 50.0 50.0\n",
       "    drF      (Z) >f4 100.0\n",
       "    PHrefC   (Z) >f4 490.5\n",
       "    PHrefF   (Zp1) >f4 0.0 981.0\n",
       "    hFacC    (YC, XC) >f4 0.0 0.0 0.0 0.0 0.0 0.0 0.0 0.0 0.0 0.0 0.0 0.0 ...\n",
       "    hFacW    (YC, XG) >f4 0.0 0.0 0.0 0.0 0.0 0.0 0.0 0.0 0.0 0.0 0.0 0.0 ...\n",
       "    hFacS    (YG, XC) >f4 0.0 0.0 0.0 0.0 0.0 0.0 0.0 0.0 0.0 0.0 0.0 0.0 ...\n",
       "Data variables:\n",
       "    *empty*\n",
       "Attributes:\n",
       "    Conventions:  CF-1.6\n",
       "    title:        netCDF wrapper of MITgcm MDS binary data\n",
       "    source:       MITgcm\n",
       "    history:      Created by calling `open_mdsdataset(llc_method='smallchunks..."
      ]
     },
     "execution_count": 3,
     "metadata": {},
     "output_type": "execute_result"
    }
   ],
   "source": [
    "ds = open_mdsdataset('/data/scratch/rpa/global_lagrangian/run', iters=None)\n",
    "ds"
   ]
  },
  {
   "cell_type": "code",
   "execution_count": 57,
   "metadata": {
    "collapsed": false,
    "deletable": true,
    "editable": true
   },
   "outputs": [],
   "source": [
    "lon = ds.XC.values\n",
    "lat = ds.YC.values\n",
    "land_mask = ds.hFacC.values==1"
   ]
  },
  {
   "cell_type": "code",
   "execution_count": 58,
   "metadata": {
    "collapsed": false
   },
   "outputs": [
    {
     "data": {
      "text/plain": [
       "(1600, 3600)"
      ]
     },
     "execution_count": 58,
     "metadata": {},
     "output_type": "execute_result"
    }
   ],
   "source": [
    "land_mask.shape"
   ]
  },
  {
   "cell_type": "code",
   "execution_count": 59,
   "metadata": {
    "collapsed": false
   },
   "outputs": [
    {
     "data": {
      "text/plain": [
       "1600"
      ]
     },
     "execution_count": 59,
     "metadata": {},
     "output_type": "execute_result"
    }
   ],
   "source": [
    "len(lat)"
   ]
  },
  {
   "cell_type": "code",
   "execution_count": 5,
   "metadata": {
    "collapsed": false,
    "deletable": true,
    "editable": true
   },
   "outputs": [],
   "source": [
    "model_grid = {'lon': lon, 'lat': lat, 'land_mask': land_mask}"
   ]
  },
  {
   "cell_type": "code",
   "execution_count": 8,
   "metadata": {
    "collapsed": false
   },
   "outputs": [
    {
     "data": {
      "text/plain": [
       "array([  5.00000007e-02,   1.50000006e-01,   2.50000000e-01, ...,\n",
       "         3.59750000e+02,   3.59850006e+02,   3.59950012e+02], dtype=float32)"
      ]
     },
     "execution_count": 8,
     "metadata": {},
     "output_type": "execute_result"
    }
   ],
   "source": [
    "lon"
   ]
  },
  {
   "cell_type": "code",
   "execution_count": 18,
   "metadata": {
    "collapsed": false
   },
   "outputs": [
    {
     "data": {
      "text/plain": [
       "array([ 0.,  1.,  2.,  3.,  4.,  5.,  6.,  7.,  8.], dtype=float32)"
      ]
     },
     "execution_count": 18,
     "metadata": {},
     "output_type": "execute_result"
    }
   ],
   "source": [
    "lon = np.linspace(0, 8, 9, dtype=np.float32)\n",
    "lon"
   ]
  },
  {
   "cell_type": "code",
   "execution_count": 60,
   "metadata": {
    "collapsed": false
   },
   "outputs": [
    {
     "data": {
      "text/plain": [
       "array([ 0.,  1.,  2.,  3.,  4.,  5.,  6.,  7.,  8.])"
      ]
     },
     "execution_count": 60,
     "metadata": {},
     "output_type": "execute_result"
    }
   ],
   "source": [
    "lon = np.linspace(0, 8, 9)\n",
    "lon"
   ]
  },
  {
   "cell_type": "code",
   "execution_count": 61,
   "metadata": {
    "collapsed": false
   },
   "outputs": [
    {
     "data": {
      "text/plain": [
       "array([-4., -3., -2., -1.,  0.,  1.,  2.,  3.,  4.])"
      ]
     },
     "execution_count": 61,
     "metadata": {},
     "output_type": "execute_result"
    }
   ],
   "source": [
    "lat = np.linspace(-4, 4, 9)\n",
    "lat"
   ]
  },
  {
   "cell_type": "code",
   "execution_count": 62,
   "metadata": {
    "collapsed": false
   },
   "outputs": [],
   "source": [
    "land_mask = np.zeros(81)\n",
    "for i in range(81):\n",
    "    if i%2 == 0:\n",
    "        land_mask[i] = 1"
   ]
  },
  {
   "cell_type": "code",
   "execution_count": 70,
   "metadata": {
    "collapsed": false
   },
   "outputs": [
    {
     "data": {
      "text/plain": [
       "array([[ True, False,  True, False,  True, False,  True, False,  True],\n",
       "       [False,  True, False,  True, False,  True, False,  True, False],\n",
       "       [ True, False,  True, False,  True, False,  True, False,  True],\n",
       "       [False,  True, False,  True, False,  True, False,  True, False],\n",
       "       [ True, False,  True, False,  True, False,  True, False,  True],\n",
       "       [False,  True, False,  True, False,  True, False,  True, False],\n",
       "       [ True, False,  True, False,  True, False,  True, False,  True],\n",
       "       [False,  True, False,  True, False,  True, False,  True, False],\n",
       "       [ True, False,  True, False,  True, False,  True, False,  True]], dtype=bool)"
      ]
     },
     "execution_count": 70,
     "metadata": {},
     "output_type": "execute_result"
    }
   ],
   "source": [
    "land_mask = land_mask==1\n",
    "land_mask"
   ]
  },
  {
   "cell_type": "code",
   "execution_count": 71,
   "metadata": {
    "collapsed": true
   },
   "outputs": [],
   "source": [
    "land_mask.shape = (len(lat), len(lon))"
   ]
  },
  {
   "cell_type": "code",
   "execution_count": 72,
   "metadata": {
    "collapsed": false
   },
   "outputs": [
    {
     "data": {
      "text/plain": [
       "{'land_mask': array([[ True, False,  True, False,  True, False,  True, False,  True],\n",
       "        [False,  True, False,  True, False,  True, False,  True, False],\n",
       "        [ True, False,  True, False,  True, False,  True, False,  True],\n",
       "        [False,  True, False,  True, False,  True, False,  True, False],\n",
       "        [ True, False,  True, False,  True, False,  True, False,  True],\n",
       "        [False,  True, False,  True, False,  True, False,  True, False],\n",
       "        [ True, False,  True, False,  True, False,  True, False,  True],\n",
       "        [False,  True, False,  True, False,  True, False,  True, False],\n",
       "        [ True, False,  True, False,  True, False,  True, False,  True]], dtype=bool),\n",
       " 'lat': array([-4., -3., -2., -1.,  0.,  1.,  2.,  3.,  4.]),\n",
       " 'lon': array([ 0.,  1.,  2.,  3.,  4.,  5.,  6.,  7.,  8.])}"
      ]
     },
     "execution_count": 72,
     "metadata": {},
     "output_type": "execute_result"
    }
   ],
   "source": [
    "model_grid = {'lon': lon, 'lat': lat, 'land_mask': land_mask}\n",
    "model_grid"
   ]
  },
  {
   "cell_type": "code",
   "execution_count": 78,
   "metadata": {
    "collapsed": false
   },
   "outputs": [],
   "source": [
    "fs = FloatSet(xlim=(0,8), ylim=(-4,4), dx=1, dy=1, model_grid=model_grid)"
   ]
  },
  {
   "cell_type": "code",
   "execution_count": 80,
   "metadata": {
    "collapsed": false
   },
   "outputs": [
    {
     "data": {
      "text/plain": [
       "(9, 9)"
      ]
     },
     "execution_count": 80,
     "metadata": {},
     "output_type": "execute_result"
    }
   ],
   "source": [
    "land_mask.shape"
   ]
  },
  {
   "cell_type": "code",
   "execution_count": 81,
   "metadata": {
    "collapsed": false
   },
   "outputs": [
    {
     "data": {
      "text/plain": [
       "(array([ 0.5,  2.5,  7.5,  4.5,  5.5,  7.5,  1.5,  2.5,  4.5,  3.5,  5.5,\n",
       "         6.5,  0.5,  3.5,  5.5,  6.5,  1.5,  2.5,  4.5,  4.5,  5.5,  7.5,\n",
       "         0.5,  2.5,  7.5]),\n",
       " array([-3.5, -3.5, -3.5, -2.5, -2.5, -2.5, -1.5, -1.5, -1.5, -0.5, -0.5,\n",
       "        -0.5,  0.5,  0.5,  0.5,  0.5,  1.5,  1.5,  1.5,  2.5,  2.5,  2.5,\n",
       "         3.5,  3.5,  3.5]))"
      ]
     },
     "execution_count": 81,
     "metadata": {},
     "output_type": "execute_result"
    }
   ],
   "source": [
    "fs.get_rectmesh()"
   ]
  },
  {
   "cell_type": "code",
   "execution_count": 82,
   "metadata": {
    "collapsed": false
   },
   "outputs": [
    {
     "data": {
      "text/plain": [
       "8"
      ]
     },
     "execution_count": 82,
     "metadata": {},
     "output_type": "execute_result"
    }
   ],
   "source": [
    "fs.Nx"
   ]
  },
  {
   "cell_type": "code",
   "execution_count": 87,
   "metadata": {
    "collapsed": false
   },
   "outputs": [
    {
     "data": {
      "text/plain": [
       "array([ 1,  2,  3,  4,  5,  6,  7,  8,  9, 10, 11, 12, 13, 14, 15, 16, 17,\n",
       "       18, 19, 20, 21, 22, 23, 24, 25, 26, 27, 28, 29, 30, 31, 32, 33, 34,\n",
       "       35, 36, 37, 38, 39, 40, 41], dtype=int32)"
      ]
     },
     "execution_count": 87,
     "metadata": {},
     "output_type": "execute_result"
    }
   ],
   "source": [
    "npart = np.linspace(1, 41, 41, dtype=np.int32)\n",
    "npart"
   ]
  },
  {
   "cell_type": "code",
   "execution_count": 85,
   "metadata": {
    "collapsed": false
   },
   "outputs": [
    {
     "data": {
      "text/plain": [
       "range(1, 41)"
      ]
     },
     "execution_count": 85,
     "metadata": {},
     "output_type": "execute_result"
    }
   ],
   "source": [
    "npart"
   ]
  },
  {
   "cell_type": "code",
   "execution_count": 96,
   "metadata": {
    "collapsed": false
   },
   "outputs": [
    {
     "data": {
      "text/plain": [
       "array([ 0.81626901,  0.9508684 ,  0.87242671,  0.11621154,  0.51689762,\n",
       "        0.04361354,  0.13720915,  0.39928626,  0.80898694,  0.20243389,\n",
       "        0.30646224,  0.01356323,  0.86932917,  0.44087223,  0.20077988,\n",
       "        0.531861  ,  0.16029231,  0.4903793 ,  0.65358242,  0.71598271,\n",
       "        0.79263997,  0.06434687,  0.0853139 ,  0.50608982,  0.46786177,\n",
       "        0.00752236,  0.5037569 ,  0.36262163,  0.8829054 ,  0.56053556,\n",
       "        0.64412335,  0.35265166,  0.51671127,  0.49045811,  0.76327537,\n",
       "        0.16966524,  0.52372685,  0.78054784,  0.01414083,  0.03551927,\n",
       "        0.82204959])"
      ]
     },
     "execution_count": 96,
     "metadata": {},
     "output_type": "execute_result"
    }
   ],
   "source": [
    "values = np.random.random(41)\n",
    "values"
   ]
  },
  {
   "cell_type": "code",
   "execution_count": 89,
   "metadata": {
    "collapsed": true
   },
   "outputs": [],
   "source": [
    "import random"
   ]
  },
  {
   "cell_type": "code",
   "execution_count": 83,
   "metadata": {
    "collapsed": false
   },
   "outputs": [
    {
     "data": {
      "text/plain": [
       "8"
      ]
     },
     "execution_count": 83,
     "metadata": {},
     "output_type": "execute_result"
    }
   ],
   "source": [
    "fs.Ny"
   ]
  },
  {
   "cell_type": "markdown",
   "metadata": {
    "deletable": true,
    "editable": true
   },
   "source": [
    "### hex"
   ]
  },
  {
   "cell_type": "code",
   "execution_count": null,
   "metadata": {
    "collapsed": false,
    "deletable": true,
    "editable": true
   },
   "outputs": [],
   "source": [
    "fs_hex = FloatSet(xlim=(0, 360), ylim=(-80, 70), dx=1/32, dy=1/32, model_grid=model_grid)"
   ]
  },
  {
   "cell_type": "code",
   "execution_count": null,
   "metadata": {
    "collapsed": false,
    "deletable": true,
    "editable": true
   },
   "outputs": [],
   "source": [
    "fs_hex.get_hexmesh()"
   ]
  },
  {
   "cell_type": "code",
   "execution_count": null,
   "metadata": {
    "collapsed": true,
    "deletable": true,
    "editable": true
   },
   "outputs": [],
   "source": [
    "path_hex = '/data/scratch/cz2397/rclv-eddies/flt_ini_pos_hex.global.32deg_f4'"
   ]
  },
  {
   "cell_type": "code",
   "execution_count": null,
   "metadata": {
    "collapsed": true,
    "deletable": true,
    "editable": true
   },
   "outputs": [],
   "source": [
    "pkl_path_hex = path_hex + '.pkl'"
   ]
  },
  {
   "cell_type": "code",
   "execution_count": null,
   "metadata": {
    "collapsed": false,
    "deletable": true,
    "editable": true
   },
   "outputs": [],
   "source": [
    "fs_hex.to_pickle(pkl_path_hex)"
   ]
  },
  {
   "cell_type": "code",
   "execution_count": null,
   "metadata": {
    "collapsed": false,
    "deletable": true,
    "editable": true
   },
   "outputs": [],
   "source": [
    "fs_hex_test = FloatSet(load_path=pkl_path_hex)"
   ]
  },
  {
   "cell_type": "code",
   "execution_count": null,
   "metadata": {
    "collapsed": false,
    "deletable": true,
    "editable": true
   },
   "outputs": [],
   "source": [
    "fs_hex_test.ocean_bools"
   ]
  },
  {
   "cell_type": "code",
   "execution_count": null,
   "metadata": {
    "collapsed": true,
    "deletable": true,
    "editable": true
   },
   "outputs": [],
   "source": [
    "bin_path_hex = path_hex + '.bin'"
   ]
  },
  {
   "cell_type": "code",
   "execution_count": null,
   "metadata": {
    "collapsed": false,
    "deletable": true,
    "editable": true
   },
   "outputs": [],
   "source": [
    "fs_hex.to_mitgcm_format(bin_path_hex, mesh='hex', read_binary_prec=32)"
   ]
  },
  {
   "cell_type": "code",
   "execution_count": null,
   "metadata": {
    "collapsed": false,
    "deletable": true,
    "editable": true
   },
   "outputs": [],
   "source": [
    "floats_hex = np.fromfile(bin_path_hex, dtype='>f4')"
   ]
  },
  {
   "cell_type": "code",
   "execution_count": null,
   "metadata": {
    "collapsed": false,
    "deletable": true,
    "editable": true
   },
   "outputs": [],
   "source": [
    "total_num_hex = len(floats_hex)\n",
    "total_num_hex"
   ]
  },
  {
   "cell_type": "code",
   "execution_count": null,
   "metadata": {
    "collapsed": false,
    "deletable": true,
    "editable": true
   },
   "outputs": [],
   "source": [
    "float_num_hex = total_num_hex//9\n",
    "float_num_hex"
   ]
  },
  {
   "cell_type": "code",
   "execution_count": null,
   "metadata": {
    "collapsed": false,
    "deletable": true,
    "editable": true
   },
   "outputs": [],
   "source": [
    "floats_hex.shape = (float_num_hex, 9)\n",
    "floats_hex.shape"
   ]
  },
  {
   "cell_type": "code",
   "execution_count": null,
   "metadata": {
    "collapsed": false,
    "deletable": true,
    "editable": true
   },
   "outputs": [],
   "source": [
    "x_hex = floats_hex[:, 2]\n",
    "y_hex = floats_hex[:, 3]"
   ]
  },
  {
   "cell_type": "code",
   "execution_count": null,
   "metadata": {
    "collapsed": false,
    "deletable": true,
    "editable": true
   },
   "outputs": [],
   "source": [
    "sns.set()\n",
    "plt.rcParams['figure.figsize'] = (16, 8)\n",
    "plt.scatter(x_hex[::100], y_hex[::100], edgecolor='none', s=1)\n",
    "plt.xlim([0, 360])\n",
    "plt.ylim([-80, 70])\n",
    "plt.show()"
   ]
  },
  {
   "cell_type": "markdown",
   "metadata": {
    "deletable": true,
    "editable": true
   },
   "source": [
    "### rec"
   ]
  },
  {
   "cell_type": "code",
   "execution_count": null,
   "metadata": {
    "collapsed": true,
    "deletable": true,
    "editable": true
   },
   "outputs": [],
   "source": [
    "fs_rec = FloatSet(xlim=(0, 360), ylim=(-80, 70), dx=0.03125, dy=0.03125, model_grid=model_grid)"
   ]
  },
  {
   "cell_type": "code",
   "execution_count": null,
   "metadata": {
    "collapsed": false,
    "deletable": true,
    "editable": true
   },
   "outputs": [],
   "source": [
    "fs_rec.get_rectmesh()"
   ]
  },
  {
   "cell_type": "code",
   "execution_count": null,
   "metadata": {
    "collapsed": true,
    "deletable": true,
    "editable": true
   },
   "outputs": [],
   "source": [
    "path_rec = '/data/scratch/cz2397/rclv-eddies/flt_ini_pos_rec.global.32deg_f4'"
   ]
  },
  {
   "cell_type": "code",
   "execution_count": null,
   "metadata": {
    "collapsed": true,
    "deletable": true,
    "editable": true
   },
   "outputs": [],
   "source": [
    "pkl_path_rec = path_rec + '.pkl'"
   ]
  },
  {
   "cell_type": "code",
   "execution_count": null,
   "metadata": {
    "collapsed": true,
    "deletable": true,
    "editable": true
   },
   "outputs": [],
   "source": [
    "fs_rec.to_pickle(pkl_path_rec)"
   ]
  },
  {
   "cell_type": "code",
   "execution_count": null,
   "metadata": {
    "collapsed": true,
    "deletable": true,
    "editable": true
   },
   "outputs": [],
   "source": [
    "fs_rec_test = FloatSet(load_path=pkl_path_rec)"
   ]
  },
  {
   "cell_type": "code",
   "execution_count": null,
   "metadata": {
    "collapsed": false,
    "deletable": true,
    "editable": true
   },
   "outputs": [],
   "source": [
    "fs_rec_test.ocean_bools"
   ]
  },
  {
   "cell_type": "code",
   "execution_count": null,
   "metadata": {
    "collapsed": true,
    "deletable": true,
    "editable": true
   },
   "outputs": [],
   "source": [
    "bin_path_rec = path_rec + '.bin'"
   ]
  },
  {
   "cell_type": "code",
   "execution_count": null,
   "metadata": {
    "collapsed": true,
    "deletable": true,
    "editable": true
   },
   "outputs": [],
   "source": [
    "fs_rec.to_mitgcm_format(bin_path_rec, mesh='rect', read_binary_prec=32)"
   ]
  },
  {
   "cell_type": "code",
   "execution_count": null,
   "metadata": {
    "collapsed": true,
    "deletable": true,
    "editable": true
   },
   "outputs": [],
   "source": [
    "floats_rec = np.fromfile(bin_path_rec, dtype='>f4')"
   ]
  },
  {
   "cell_type": "code",
   "execution_count": null,
   "metadata": {
    "collapsed": false,
    "deletable": true,
    "editable": true
   },
   "outputs": [],
   "source": [
    "total_num_rec = len(floats_rec)\n",
    "total_num_rec"
   ]
  },
  {
   "cell_type": "code",
   "execution_count": null,
   "metadata": {
    "collapsed": false,
    "deletable": true,
    "editable": true
   },
   "outputs": [],
   "source": [
    "float_num_rec = total_num_rec//9\n",
    "float_num_rec"
   ]
  },
  {
   "cell_type": "code",
   "execution_count": null,
   "metadata": {
    "collapsed": false,
    "deletable": true,
    "editable": true
   },
   "outputs": [],
   "source": [
    "floats_rec.shape = (float_num_rec, 9)\n",
    "floats_rec.shape"
   ]
  },
  {
   "cell_type": "code",
   "execution_count": null,
   "metadata": {
    "collapsed": true,
    "deletable": true,
    "editable": true
   },
   "outputs": [],
   "source": [
    "x_rec = floats_rec[:, 2]\n",
    "y_rec = floats_rec[:, 3]"
   ]
  },
  {
   "cell_type": "code",
   "execution_count": null,
   "metadata": {
    "collapsed": false,
    "deletable": true,
    "editable": true
   },
   "outputs": [],
   "source": [
    "sns.set()\n",
    "plt.rcParams['figure.figsize'] = (16, 8)\n",
    "plt.scatter(x_rec[::100], y_rec[::100], edgecolor='none', s=1)\n",
    "plt.xlim([0, 360])\n",
    "plt.ylim([-80, 70])\n",
    "plt.show()"
   ]
  }
 ],
 "metadata": {
  "kernelspec": {
   "display_name": "Python 3",
   "language": "python",
   "name": "python3"
  },
  "language_info": {
   "codemirror_mode": {
    "name": "ipython",
    "version": 3
   },
   "file_extension": ".py",
   "mimetype": "text/x-python",
   "name": "python",
   "nbconvert_exporter": "python",
   "pygments_lexer": "ipython3",
   "version": "3.6.1"
  }
 },
 "nbformat": 4,
 "nbformat_minor": 0
}
