{
 "cells": [
  {
   "cell_type": "code",
   "execution_count": 1,
   "metadata": {
    "collapsed": true,
    "deletable": true,
    "editable": true
   },
   "outputs": [],
   "source": [
    "import xarray as xr"
   ]
  },
  {
   "cell_type": "code",
   "execution_count": 2,
   "metadata": {
    "collapsed": false,
    "deletable": true,
    "editable": true
   },
   "outputs": [
    {
     "data": {
      "text/plain": [
       "<xarray.Dataset>\n",
       "Dimensions:  (npart: 37136796, time: 92)\n",
       "Coordinates:\n",
       "  * npart    (npart) int32 1 2 3 4 5 6 7 8 9 10 11 12 13 14 15 16 17 18 19 ...\n",
       "  * time     (time) datetime64[ns] 1993-01-01 1993-01-02 1993-01-03 ...\n",
       "Data variables:\n",
       "    x        (time, npart) float32 323.711 323.742 323.773 323.805 323.836 ...\n",
       "    y        (time, npart) float32 -77.9844 -77.9844 -77.9844 -77.9844 ...\n",
       "    u        (time, npart) float32 -0.00534631 -0.00524768 -0.00514906 ...\n",
       "    v        (time, npart) float32 -0.00278736 -0.00282293 -0.00287281 ...\n",
       "    vort     (time, npart) float32 9.16063e-11 1.14484e-10 1.40007e-10 ..."
      ]
     },
     "execution_count": 2,
     "metadata": {},
     "output_type": "execute_result"
    }
   ],
   "source": [
    "mds = xr.open_mfdataset('../run_test_nc_new/flt_traj_*.nc')\n",
    "mds"
   ]
  },
  {
   "cell_type": "code",
   "execution_count": 3,
   "metadata": {
    "collapsed": false,
    "deletable": true,
    "editable": true
   },
   "outputs": [
    {
     "data": {
      "text/plain": [
       "<xarray.Dataset>\n",
       "Dimensions:  (npart: 37136796, time: 92)\n",
       "Coordinates:\n",
       "  * npart    (npart) int32 1 2 3 4 5 6 7 8 9 10 11 12 13 14 15 16 17 18 19 ...\n",
       "  * time     (time) datetime64[ns] 1993-01-01 1993-01-02 1993-01-03 ...\n",
       "Data variables:\n",
       "    x        (time, npart) float32 323.711 323.742 323.773 323.805 323.836 ...\n",
       "    y        (time, npart) float32 -77.9844 -77.9844 -77.9844 -77.9844 ..."
      ]
     },
     "execution_count": 3,
     "metadata": {},
     "output_type": "execute_result"
    }
   ],
   "source": [
    "pos = mds.drop(['u', 'v', 'vort'])\n",
    "pos"
   ]
  },
  {
   "cell_type": "code",
   "execution_count": 4,
   "metadata": {
    "collapsed": false,
    "deletable": true,
    "editable": true
   },
   "outputs": [
    {
     "data": {
      "text/plain": [
       "<xarray.Dataset>\n",
       "Dimensions:  (npart: 37136796)\n",
       "Coordinates:\n",
       "  * npart    (npart) int32 1 2 3 4 5 6 7 8 9 10 11 12 13 14 15 16 17 18 19 ...\n",
       "Data variables:\n",
       "    x_0      (npart) float32 323.711 323.742 323.773 323.805 323.836 323.867 ...\n",
       "    y_0      (npart) float32 -77.9844 -77.9844 -77.9844 -77.9844 -77.9844 ..."
      ]
     },
     "execution_count": 4,
     "metadata": {},
     "output_type": "execute_result"
    }
   ],
   "source": [
    "ini_pos = pos.isel(time=0).drop('time').rename({'x': 'x_0', 'y': 'y_0'})\n",
    "ini_pos"
   ]
  },
  {
   "cell_type": "code",
   "execution_count": 5,
   "metadata": {
    "collapsed": false,
    "deletable": true,
    "editable": true
   },
   "outputs": [
    {
     "data": {
      "text/plain": [
       "<xarray.Dataset>\n",
       "Dimensions:  (npart: 37136796, time: 92)\n",
       "Coordinates:\n",
       "  * npart    (npart) int32 1 2 3 4 5 6 7 8 9 10 11 12 13 14 15 16 17 18 19 ...\n",
       "  * time     (time) datetime64[ns] 1993-01-01 1993-01-02 1993-01-03 ...\n",
       "Data variables:\n",
       "    vort     (time, npart) float32 9.16063e-11 1.14484e-10 1.40007e-10 ..."
      ]
     },
     "execution_count": 5,
     "metadata": {},
     "output_type": "execute_result"
    }
   ],
   "source": [
    "vort = mds.drop(['x', 'y', 'u', 'v'])\n",
    "vort"
   ]
  },
  {
   "cell_type": "code",
   "execution_count": 6,
   "metadata": {
    "collapsed": false,
    "deletable": true,
    "editable": true
   },
   "outputs": [
    {
     "data": {
      "text/plain": [
       "<xarray.Dataset>\n",
       "Dimensions:  (npart: 37136796)\n",
       "Coordinates:\n",
       "  * npart    (npart) int32 1 2 3 4 5 6 7 8 9 10 11 12 13 14 15 16 17 18 19 ...\n",
       "Data variables:\n",
       "    vort     (npart) float32 4.11037e-10 4.08514e-10 4.02662e-10 3.94556e-10 ..."
      ]
     },
     "execution_count": 6,
     "metadata": {},
     "output_type": "execute_result"
    }
   ],
   "source": [
    "vortma = abs(vort.mean(dim='time'))\n",
    "vortma"
   ]
  },
  {
   "cell_type": "code",
   "execution_count": 7,
   "metadata": {
    "collapsed": false,
    "deletable": true,
    "editable": true
   },
   "outputs": [
    {
     "data": {
      "text/plain": [
       "<xarray.Dataset>\n",
       "Dimensions:  (npart: 37136796)\n",
       "Coordinates:\n",
       "  * npart    (npart) int32 1 2 3 4 5 6 7 8 9 10 11 12 13 14 15 16 17 18 19 ...\n",
       "Data variables:\n",
       "    x_0      (npart) float32 323.711 323.742 323.773 323.805 323.836 323.867 ...\n",
       "    y_0      (npart) float32 -77.9844 -77.9844 -77.9844 -77.9844 -77.9844 ...\n",
       "    LAVD     (npart) float32 4.11037e-10 4.08514e-10 4.02662e-10 3.94556e-10 ..."
      ]
     },
     "execution_count": 7,
     "metadata": {},
     "output_type": "execute_result"
    }
   ],
   "source": [
    "lavd = xr.merge([ini_pos, vortma]).rename({'vort': 'LAVD'})\n",
    "lavd"
   ]
  },
  {
   "cell_type": "code",
   "execution_count": 8,
   "metadata": {
    "collapsed": true,
    "deletable": true,
    "editable": true
   },
   "outputs": [],
   "source": [
    "lavd.to_netcdf('/vega/physo/users/cz2397/global_lagrangian/lavd_test.nc')"
   ]
  }
 ],
 "metadata": {
  "kernelspec": {
   "display_name": "Python 3",
   "language": "python",
   "name": "python3"
  },
  "language_info": {
   "codemirror_mode": {
    "name": "ipython",
    "version": 3
   },
   "file_extension": ".py",
   "mimetype": "text/x-python",
   "name": "python",
   "nbconvert_exporter": "python",
   "pygments_lexer": "ipython3",
   "version": "3.6.1"
  },
  "widgets": {
   "application/vnd.jupyter.widget-state+json": {
    "state": {},
    "version_major": 1,
    "version_minor": 0
   }
  }
 },
 "nbformat": 4,
 "nbformat_minor": 2
}
