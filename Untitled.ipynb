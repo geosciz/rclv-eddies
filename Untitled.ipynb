{
 "cells": [
  {
   "cell_type": "code",
   "execution_count": 1,
   "metadata": {
    "collapsed": true
   },
   "outputs": [],
   "source": [
    "from xmitgcm import open_mdsdataset"
   ]
  },
  {
   "cell_type": "code",
   "execution_count": 3,
   "metadata": {
    "collapsed": false
   },
   "outputs": [
    {
     "data": {
      "text/plain": [
       "<xarray.Dataset>\n",
       "Dimensions:  (XC: 3600, XG: 3600, YC: 1600, YG: 1600, Z: 1, Zl: 1, Zp1: 2, Zu: 1)\n",
       "Coordinates:\n",
       "  * XC       (XC) >f4 0.05 0.15 0.25 0.35 0.45 0.55 0.65 0.75 0.85 0.95 1.05 ...\n",
       "  * YC       (YC) >f4 -79.95 -79.85 -79.75 -79.65 -79.55 -79.45 -79.35 ...\n",
       "  * XG       (XG) >f4 -2.77556e-17 0.1 0.2 0.3 0.4 0.5 0.6 0.7 0.8 0.9 1.0 ...\n",
       "  * YG       (YG) >f4 -80.0 -79.9 -79.8 -79.7 -79.6 -79.5 -79.4 -79.3 -79.2 ...\n",
       "  * Zl       (Zl) >f4 0.0\n",
       "  * Zu       (Zu) >f4 -100.0\n",
       "  * Z        (Z) >f4 -50.0\n",
       "  * Zp1      (Zp1) >f4 0.0 -100.0\n",
       "    dxC      (YC, XG) >f4 1940.13 1940.13 1940.13 1940.13 1940.13 1940.13 ...\n",
       "    rAs      (YG, XC) >f4 2.14637e+07 2.14637e+07 2.14637e+07 2.14637e+07 ...\n",
       "    rAw      (YC, XG) >f4 2.15699e+07 2.15699e+07 2.15699e+07 2.15699e+07 ...\n",
       "    Depth    (YC, XC) >f4 0.0 0.0 0.0 0.0 0.0 0.0 0.0 0.0 0.0 0.0 0.0 0.0 ...\n",
       "    rA       (YC, XC) >f4 2.15699e+07 2.15699e+07 2.15699e+07 2.15699e+07 ...\n",
       "    dxG      (YG, XC) >f4 1930.58 1930.58 1930.58 1930.58 1930.58 1930.58 ...\n",
       "    dyG      (YC, XG) >f4 11117.7 11117.7 11117.7 11117.7 11117.7 11117.7 ...\n",
       "    rAz      (YG, XG) >f4 2.14637e+07 2.14637e+07 2.14637e+07 2.14637e+07 ...\n",
       "    dyC      (YG, XC) >f4 11117.7 11117.7 11117.7 11117.7 11117.7 11117.7 ...\n",
       "    PHrefC   (Z) >f4 490.5\n",
       "    drC      (Zp1) >f4 50.0 50.0\n",
       "    PHrefF   (Zp1) >f4 0.0 981.0\n",
       "    drF      (Z) >f4 100.0\n",
       "    hFacS    (YG, XC) >f4 0.0 0.0 0.0 0.0 0.0 0.0 0.0 0.0 0.0 0.0 0.0 0.0 ...\n",
       "    hFacC    (YC, XC) >f4 0.0 0.0 0.0 0.0 0.0 0.0 0.0 0.0 0.0 0.0 0.0 0.0 ...\n",
       "    hFacW    (YC, XG) >f4 0.0 0.0 0.0 0.0 0.0 0.0 0.0 0.0 0.0 0.0 0.0 0.0 ...\n",
       "Data variables:\n",
       "    *empty*\n",
       "Attributes:\n",
       "    Conventions: CF-1.6\n",
       "    title: netCDF wrapper of MITgcm MDS binary data\n",
       "    source: MITgcm\n",
       "    history: Created by calling `open_mdsdataset(prefix=None, data_dir='/data/scratch/rpa/global_lagrangian/run/', read_grid=True, llc_method='smallchunks', ignore_unknown_vars=False, grid_dir=None, grid_vars_to_coords=True, delta_t=1, geometry='sphericalpolar', ref_date=None, default_dtype=None, nx=None, ny=None, nz=None, iters=None, endian='>', chunks=None, swap_dims=None, calendar='gregorian')`"
      ]
     },
     "execution_count": 3,
     "metadata": {},
     "output_type": "execute_result"
    }
   ],
   "source": [
    "ds = open_mdsdataset('/data/scratch/rpa/global_lagrangian/run/', iters=None, read_grid=True)\n",
    "ds"
   ]
  },
  {
   "cell_type": "code",
   "execution_count": null,
   "metadata": {
    "collapsed": true
   },
   "outputs": [],
   "source": []
  }
 ],
 "metadata": {
  "kernelspec": {
   "display_name": "Python 2.7",
   "language": "python",
   "name": "python2"
  },
  "language_info": {
   "codemirror_mode": {
    "name": "ipython",
    "version": 2
   },
   "file_extension": ".py",
   "mimetype": "text/x-python",
   "name": "python",
   "nbconvert_exporter": "python",
   "pygments_lexer": "ipython2",
   "version": "2.7.11"
  }
 },
 "nbformat": 4,
 "nbformat_minor": 0
}
